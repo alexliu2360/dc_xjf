{
 "cells": [
  {
   "cell_type": "code",
   "execution_count": 1,
   "metadata": {},
   "outputs": [],
   "source": [
    "import pandas as pd\n",
    "import numpy as np\n",
    "import lightgbm as lgb\n",
    "from sklearn.model_selection import StratifiedKFold\n",
    "def tpr_weight_funtion(y_true,y_predict):\n",
    "    d = pd.DataFrame()\n",
    "    d['prob'] = list(y_predict)\n",
    "    d['y'] = list(y_true)\n",
    "    d = d.sort_values(['prob'], ascending=[0])\n",
    "    y = d.y\n",
    "    PosAll = pd.Series(y).value_counts()[1]\n",
    "    NegAll = pd.Series(y).value_counts()[0]\n",
    "    pCumsum = d['y'].cumsum()\n",
    "    nCumsum = np.arange(len(y)) - pCumsum + 1\n",
    "    pCumsumPer = pCumsum / PosAll\n",
    "    nCumsumPer = nCumsum / NegAll\n",
    "    TR1 = pCumsumPer[abs(nCumsumPer-0.001).idxmin()]\n",
    "    TR2 = pCumsumPer[abs(nCumsumPer-0.005).idxmin()]\n",
    "    TR3 = pCumsumPer[abs(nCumsumPer-0.01).idxmin()]\n",
    "    return 'TC_AUC',0.4 * TR1 + 0.3 * TR2 + 0.3 * TR3,True"
   ]
  },
  {
   "cell_type": "code",
   "execution_count": 2,
   "metadata": {},
   "outputs": [
    {
     "name": "stderr",
     "output_type": "stream",
     "text": [
      "/home/alexliu/software/anaconda3/lib/python3.6/site-packages/IPython/core/interactiveshell.py:2785: DtypeWarning: Columns (8) have mixed types. Specify dtype option on import or set low_memory=False.\n",
      "  interactivity=interactivity, compiler=compiler, result=result)\n"
     ]
    }
   ],
   "source": [
    "op_train = pd.read_csv('../data/operation_train_new.csv')\n",
    "trans_train = pd.read_csv('../data/transaction_train_new.csv')\n",
    "\n",
    "op_test = pd.read_csv('../data/operation_round1_new.csv')\n",
    "trans_test = pd.read_csv('../data/transaction_round1_new.csv')\n",
    "y = pd.read_csv('../data/tag_train_new.csv')\n",
    "sub = pd.read_csv('../data/submit_sample.csv')"
   ]
  },
  {
   "cell_type": "code",
   "execution_count": null,
   "metadata": {},
   "outputs": [],
   "source": [
    "y = pd.read_csv('../data/tag_train_new.csv')"
   ]
  },
  {
   "cell_type": "code",
   "execution_count": 3,
   "metadata": {},
   "outputs": [],
   "source": [
    "def get_feature(op,trans,label):\n",
    "    for feature in op.columns[2:]:\n",
    "        label = label.merge(op.groupby(['UID'])[feature].count().reset_index(),on='UID',how='left')\n",
    "        label =label.merge(op.groupby(['UID'])[feature].nunique().reset_index(),on='UID',how='left')\n",
    "    \n",
    "    for feature in trans.columns[2:]:\n",
    "        if trans_train[feature].dtype == 'object':\n",
    "            label =label.merge(trans.groupby(['UID'])[feature].count().reset_index(),on='UID',how='left')\n",
    "            label =label.merge(trans.groupby(['UID'])[feature].nunique().reset_index(),on='UID',how='left')\n",
    "        else:\n",
    "            print(feature)\n",
    "            label =label.merge(trans.groupby(['UID'])[feature].count().reset_index(),on='UID',how='left')\n",
    "            label =label.merge(trans.groupby(['UID'])[feature].nunique().reset_index(),on='UID',how='left')\n",
    "            label =label.merge(trans.groupby(['UID'])[feature].max().reset_index(),on='UID',how='left')\n",
    "            label =label.merge(trans.groupby(['UID'])[feature].min().reset_index(),on='UID',how='left')\n",
    "            label =label.merge(trans.groupby(['UID'])[feature].sum().reset_index(),on='UID',how='left')\n",
    "            label =label.merge(trans.groupby(['UID'])[feature].mean().reset_index(),on='UID',how='left')\n",
    "            label =label.merge(trans.groupby(['UID'])[feature].std().reset_index(),on='UID',how='left')\n",
    "    return label"
   ]
  },
  {
   "cell_type": "code",
   "execution_count": 4,
   "metadata": {},
   "outputs": [
    {
     "name": "stdout",
     "output_type": "stream",
     "text": [
      "day\n",
      "trans_amt\n",
      "bal\n",
      "trans_type2\n",
      "market_type\n",
      "day\n",
      "trans_amt\n",
      "bal\n",
      "trans_type2\n",
      "market_type\n"
     ]
    }
   ],
   "source": [
    "train = get_feature(op_train,trans_train,y)\n",
    "test = get_feature(op_test,trans_test,sub)"
   ]
  },
  {
   "cell_type": "code",
   "execution_count": 5,
   "metadata": {},
   "outputs": [
    {
     "data": {
      "text/plain": [
       "['UID',\n",
       " 'Tag',\n",
       " 'mode_x',\n",
       " 'mode_y',\n",
       " 'success_x',\n",
       " 'success_y',\n",
       " 'time_x',\n",
       " 'time_y',\n",
       " 'os_x',\n",
       " 'os_y',\n",
       " 'version_x',\n",
       " 'version_y',\n",
       " 'device1_x',\n",
       " 'device1_y',\n",
       " 'device2_x',\n",
       " 'device2_y',\n",
       " 'device_code1_x',\n",
       " 'device_code1_y',\n",
       " 'device_code2_x',\n",
       " 'device_code2_y',\n",
       " 'device_code3_x',\n",
       " 'device_code3_y',\n",
       " 'mac1_x',\n",
       " 'mac1_y',\n",
       " 'mac2_x',\n",
       " 'mac2_y',\n",
       " 'ip1_x',\n",
       " 'ip1_y',\n",
       " 'ip2_x',\n",
       " 'ip2_y',\n",
       " 'wifi_x',\n",
       " 'wifi_y',\n",
       " 'geo_code_x',\n",
       " 'geo_code_y',\n",
       " 'ip1_sub_x',\n",
       " 'ip1_sub_y',\n",
       " 'ip2_sub_x',\n",
       " 'ip2_sub_y',\n",
       " 'day_x',\n",
       " 'day_y',\n",
       " 'day_x',\n",
       " 'day_y',\n",
       " 'day_x',\n",
       " 'day_y',\n",
       " 'day',\n",
       " 'time_x',\n",
       " 'time_y',\n",
       " 'trans_amt_x',\n",
       " 'trans_amt_y',\n",
       " 'trans_amt_x',\n",
       " 'trans_amt_y',\n",
       " 'trans_amt_x',\n",
       " 'trans_amt_y',\n",
       " 'trans_amt',\n",
       " 'amt_src1_x',\n",
       " 'amt_src1_y',\n",
       " 'merchant_x',\n",
       " 'merchant_y',\n",
       " 'code1_x',\n",
       " 'code1_y',\n",
       " 'code2_x',\n",
       " 'code2_y',\n",
       " 'trans_type1_x',\n",
       " 'trans_type1_y',\n",
       " 'acc_id1_x',\n",
       " 'acc_id1_y',\n",
       " 'device_code1_x',\n",
       " 'device_code1_y',\n",
       " 'device_code2_x',\n",
       " 'device_code2_y',\n",
       " 'device_code3_x',\n",
       " 'device_code3_y',\n",
       " 'device1_x',\n",
       " 'device1_y',\n",
       " 'device2_x',\n",
       " 'device2_y',\n",
       " 'mac1_x',\n",
       " 'mac1_y',\n",
       " 'ip1_x',\n",
       " 'ip1_y',\n",
       " 'bal_x',\n",
       " 'bal_y',\n",
       " 'bal_x',\n",
       " 'bal_y',\n",
       " 'bal_x',\n",
       " 'bal_y',\n",
       " 'bal',\n",
       " 'amt_src2_x',\n",
       " 'amt_src2_y',\n",
       " 'acc_id2_x',\n",
       " 'acc_id2_y',\n",
       " 'acc_id3_x',\n",
       " 'acc_id3_y',\n",
       " 'geo_code_x',\n",
       " 'geo_code_y',\n",
       " 'trans_type2_x',\n",
       " 'trans_type2_y',\n",
       " 'trans_type2_x',\n",
       " 'trans_type2_y',\n",
       " 'trans_type2_x',\n",
       " 'trans_type2_y',\n",
       " 'trans_type2',\n",
       " 'market_code_x',\n",
       " 'market_code_y',\n",
       " 'market_type_x',\n",
       " 'market_type_y',\n",
       " 'market_type_x',\n",
       " 'market_type_y',\n",
       " 'market_type_x',\n",
       " 'market_type_y',\n",
       " 'market_type',\n",
       " 'ip1_sub_x',\n",
       " 'ip1_sub_y']"
      ]
     },
     "execution_count": 5,
     "metadata": {},
     "output_type": "execute_result"
    }
   ],
   "source": [
    "list(train.columns)"
   ]
  },
  {
   "cell_type": "code",
   "execution_count": null,
   "metadata": {
    "scrolled": false
   },
   "outputs": [],
   "source": [
    "train.head()"
   ]
  },
  {
   "cell_type": "code",
   "execution_count": null,
   "metadata": {},
   "outputs": [],
   "source": [
    "train = train.fillna(-1)\n",
    "test = test.fillna(-1)"
   ]
  },
  {
   "cell_type": "code",
   "execution_count": null,
   "metadata": {},
   "outputs": [],
   "source": [
    "train = train.drop(['UID','Tag'],axis = 1).fillna(-1)\n",
    "label = y['Tag']"
   ]
  },
  {
   "cell_type": "code",
   "execution_count": null,
   "metadata": {},
   "outputs": [],
   "source": [
    "test_id = test['UID']\n",
    "test = test.drop(['UID','Tag'],axis = 1).fillna(-1)"
   ]
  }
 ],
 "metadata": {
  "kernelspec": {
   "display_name": "Python 3",
   "language": "python",
   "name": "python3"
  },
  "language_info": {
   "codemirror_mode": {
    "name": "ipython",
    "version": 3
   },
   "file_extension": ".py",
   "mimetype": "text/x-python",
   "name": "python",
   "nbconvert_exporter": "python",
   "pygments_lexer": "ipython3",
   "version": "3.6.5"
  }
 },
 "nbformat": 4,
 "nbformat_minor": 2
}
