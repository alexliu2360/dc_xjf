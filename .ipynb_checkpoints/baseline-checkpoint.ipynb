{
 "cells": [
  {
   "cell_type": "code",
   "execution_count": null,
   "metadata": {
    "collapsed": true
   },
   "outputs": [],
   "source": [
    "import numpy as np\n",
    "import pandas as pd\n",
    "import time,os\n",
    "from sklearn.preprocessing import LabelEncoder\n",
    "import matplotlib.pyplot as plt\n",
    "import matplotlib as mpl\n",
    "%matplotlib inline"
   ]
  },
  {
   "cell_type": "code",
   "execution_count": null,
   "metadata": {
    "collapsed": true
   },
   "outputs": [],
   "source": [
    "data_path = '../data/'\n",
    "op_train_sorted_file = 'op_train_sorted.csv' \n",
    "tran_train_sorted_file = 'tran_train_sorted.csv' \n",
    "tag_train_sorted_file = 'tag_train_sorted.csv' "
   ]
  },
  {
   "cell_type": "code",
   "execution_count": null,
   "metadata": {},
   "outputs": [],
   "source": [
    "is_preprocessed = False\n",
    "if not os.path.exists(data_path + op_train_sorted_file) or not os.path.exists(data_path + tran_train_sorted_file) or not os.path.exists(data_path + tag_train_sorted_file):\n",
    "    print('[info]:start read from new train data...')\n",
    "    is_preprocessed = False\n",
    "    print('[info]:start read from op_train...')\n",
    "    op_train = pd.read_csv('../data/operation_train_new.csv')\n",
    "    print('[info]:start read from tran_train...')\n",
    "    tran_train = pd.read_csv('../data/transaction_train_new.csv')\n",
    "    print('[info]:start read from tag_train...')\n",
    "    tag_train = pd.read_csv('../data/tag_train_new.csv')\n",
    "else:\n",
    "    print('[info]:start read from sorted data...')\n",
    "    is_preprocessed = True\n",
    "    print('[info]:start read from op_train...')\n",
    "    op_train = pd.read_csv('../data/op_train_sorted.csv').drop('Unnamed: 0', axis=1)\n",
    "    print('[info]:start read from tran_train...')\n",
    "    tran_train = pd.read_csv('../data/tran_train_sorted.csv').drop('Unnamed: 0', axis=1)\n",
    "    print('[info]:start read from tag_train...')\n",
    "    tag_train = pd.read_csv('../data/tag_train_sorted.csv').drop('Unnamed: 0', axis=1)"
   ]
  },
  {
   "cell_type": "markdown",
   "metadata": {},
   "source": [
    "### 1.数据预处理"
   ]
  },
  {
   "cell_type": "code",
   "execution_count": null,
   "metadata": {
    "collapsed": true
   },
   "outputs": [],
   "source": [
    "def find_different_uid(op_uids, tran_uids):\n",
    "    op_diff_uids = []\n",
    "    for uid in op_uids:\n",
    "        if uid not in tran_uids:\n",
    "            op_diff_uids.append(uid)\n",
    "        else:\n",
    "            tran_uids.remove(uid)\n",
    "    return op_diff_uids, tran_uids\n",
    "\n",
    "def find_same_uid(src1_uids, src2_uids):\n",
    "    same_uids = [uid for uid in src1_uids if uid in src2_uids]\n",
    "    return same_uids"
   ]
  },
  {
   "cell_type": "code",
   "execution_count": null,
   "metadata": {
    "collapsed": true
   },
   "outputs": [],
   "source": [
    "if not is_preprocessed:\n",
    "    # 处理时间字符串\n",
    "    op_train['time'] = op_train['day'].apply(lambda x: \"2018-08-%02d\" % x) + ' ' + op_train['time']\n",
    "    op_train['timestamp'] = op_train['time'].apply(lambda x:time.mktime(time.strptime(x,'%Y-%m-%d %H:%M:%S')))\n",
    "\n",
    "    tran_train['time'] = tran_train['day'].apply(lambda x: \"2018-08-%02d\" % x) + ' ' + tran_train['time']\n",
    "    tran_train['timestamp'] = tran_train['time'].apply(lambda x:time.mktime(time.strptime(x,'%Y-%m-%d %H:%M:%S')))\n",
    "    \n",
    "    # 根据UID进行排序 再根据timestamp进行排序 \n",
    "    op_train = op_train.sort_values(by=['UID', 'timestamp'],ascending=True).reset_index(drop=True)\n",
    "    tran_train = tran_train.sort_values(by=['UID', 'timestamp'],ascending=True).reset_index(drop=True)\n",
    "    tag_train = tag_train.sort_values(by=['UID'], ascending=True).reset_index(drop=True)\n",
    "\n",
    "    op_train.to_csv(data_path + op_train_sorted_file)\n",
    "    tran_train.to_csv(data_path + tran_train_sorted_file)\n",
    "    tag_train.to_csv(data_path + tag_train_sorted_file)"
   ]
  },
  {
   "cell_type": "code",
   "execution_count": null,
   "metadata": {
    "collapsed": true
   },
   "outputs": [],
   "source": [
    "# 去重\n",
    "op_train_drop = op_train.drop_duplicates(inplace=True)\n",
    "tran_train_drop = tran_train.drop_duplicates(inplace=True)\n",
    "# 分组\n",
    "op_train_gb = op_train.groupby('UID', as_index=False)\n",
    "tran_train_gb = tran_train.groupby('UID', as_index=False)\n",
    "#  获取op和tran各自的uid\n",
    "op_train_uids = [uid for uid, item in op_train_gb.groups.items()]\n",
    "tran_train_uids = [uid for uid, item in tran_train_gb.groups.items()]\n",
    "# 获取op和tran各自的tag\n",
    "op_tag = tag_train[tag_train['UID'].isin(op_train['UID'])]\n",
    "tran_tag = tag_train[tag_train['UID'].isin(tran_train['UID'])]"
   ]
  },
  {
   "cell_type": "markdown",
   "metadata": {},
   "source": [
    "#### 1.1处理缺失值"
   ]
  },
  {
   "cell_type": "code",
   "execution_count": null,
   "metadata": {
    "collapsed": true
   },
   "outputs": [],
   "source": [
    "# op需要进行LabelEncoder的特征\n",
    "op_columns = list(op_train.columns)\n",
    "op_le_obj_fts = ['mode', 'os', 'version',\n",
    "                  'device1', 'device2', 'device_code1', 'device_code2', 'device_code3',\n",
    "                  'mac1', 'mac2', 'ip1', 'ip2', 'wifi', 'geo_code', 'ip1_sub', 'ip2_sub']\n",
    "op_numtype_fts = ['success']\n",
    "\n",
    "tran_columns = list(tran_train.columns)\n",
    "tran_le_obj_fts = ['amt_src1', 'merchant',\n",
    "                   'code1', 'code2', 'trans_type1', 'acc_id1', 'device_code1',\n",
    "                   'device_code2', 'device_code3', 'device1', 'device2', 'mac1', 'ip1', \n",
    "                   'amt_src2', 'acc_id2', 'acc_id3', 'geo_code', 'trans_type2',\n",
    "                   'market_code', 'ip1_sub']\n",
    "tran_numtype_fts = ['channel', 'trans_amt', 'trans_type2', 'market_type']"
   ]
  },
  {
   "cell_type": "code",
   "execution_count": null,
   "metadata": {
    "collapsed": true
   },
   "outputs": [],
   "source": [
    "def get_nan_counts(gb_count, ft_columns):\n",
    "    hasnans_features_cnts = []\n",
    "    for ft in ft_columns:\n",
    "        cnts = gb_count[ft].value_counts()\n",
    "        value = cnts[cnts.index == 0].values\n",
    "        if len(value):\n",
    "            hasnans_features_cnts.append((cnts.name,value[0]))\n",
    "    return hasnans_features_cnts\n",
    "        \n",
    "def find_invalid_feature(gb_count, ft_columns):\n",
    "    invalid_features = []\n",
    "    for ft in ft_columns:\n",
    "        cnts = gb_count[ft].value_counts()\n",
    "        # 寻找值为0的统计数\n",
    "        value = cnts[cnts.index == 0].values\n",
    "        if len(value):\n",
    "            if value[0] / gb_count.shape[0] > 0.5:\n",
    "                print(cnts.name, value[0] / gb_count.shape[0])\n",
    "                invalid_features.append(cnts.name)\n",
    "    return invalid_features\n",
    "\n",
    "def remove_list_item(src_l, rm_l):\n",
    "    assert type(src_l) is list\n",
    "    assert type(rm_l) is list\n",
    "    \n",
    "    for i in rm_l:\n",
    "        if i in src_l:\n",
    "            src_l.remove(i)\n",
    "    return src_l\n",
    "\n",
    "def preprocess(train_data, train_columns, le_obj_fts, numtype_fts):\n",
    "    print('[info]: start fill nans...')\n",
    "    for ft in numtype_fts:\n",
    "        train_data[ft].fillna(-1, inplace=True)\n",
    "        train_gb = train_data.groupby('UID', as_index=False)\n",
    "\n",
    "    # 填补缺失值\n",
    "    train_data = train_gb.ffill()\n",
    "    train_gb = train_data.groupby('UID', as_index=False)\n",
    "    train_data = train_gb.bfill()\n",
    "    train_gb = train_data.groupby('UID', as_index=False)\n",
    "\n",
    "    # 在填补基础上计数，去除nan值占一半以上的值\n",
    "    print('[info]: start remove invalid features...')\n",
    "    invalid_features = find_invalid_feature(train_gb.count(), train_columns)\n",
    "    train_columns = remove_list_item(train_columns, invalid_features)\n",
    "    le_obj_fts = remove_list_item(le_obj_fts, invalid_features)\n",
    "    train_data.drop(invalid_features, axis='columns', inplace=True)\n",
    "\n",
    "    # 填补剩余的缺失值\n",
    "    print('[info]: start handle left nans...')\n",
    "    op_hasnans_features_cnts = get_nan_counts(train_gb.count(), train_columns)\n",
    "    for ft_cnts in op_hasnans_features_cnts:\n",
    "        if train_data[ft_cnts[0]].hasnans:\n",
    "            train_data[ft_cnts[0]].fillna('-1', inplace=True)\n",
    "    train_gb = train_data.groupby('UID', as_index=False)\n",
    "    print('[info]: handle nans finished.')\n",
    "\n",
    "    # 对非数值型标签进行编码\n",
    "    print('[info]: start label encoding...')\n",
    "    le = LabelEncoder()\n",
    "    for feature in le_obj_fts:\n",
    "        try:\n",
    "            print('[info]: %r label encoding...' %feature)\n",
    "            train_data[feature] = le.fit_transform(train_data[feature])\n",
    "        except TypeError as e:\n",
    "            print(e)\n",
    "    train_gb = train_data.groupby('UID', as_index=False)\n",
    "    print('[info]: label encoding finished.')\n",
    "    return train_data, train_gb, train_columns, le_obj_fts\n",
    "\n",
    "def get_tag(uid):\n",
    "    return tag_train[tag_train['UID'] == uid]\n",
    "\n",
    "def get_op(uid):\n",
    "    return op_train[op_train['UID'] == uid]\n",
    "\n",
    "def get_tran(uid):\n",
    "    return tran_train[tran_train['UID'] == uid]\n",
    "\n",
    "def get_value_counts(uid, train_data):\n",
    "    assert type(train_data) is pd.DataFrame\n",
    "    for c in list(train_data.columns):\n",
    "        print('[%r]'%c)\n",
    "        print(train_data[train_data['UID']==uid][c].value_counts())\n",
    "        print('====')"
   ]
  },
  {
   "cell_type": "code",
   "execution_count": null,
   "metadata": {
    "collapsed": true
   },
   "outputs": [],
   "source": [
    "op_train, op_train_gb, op_columns, op_le_obj_fts = preprocess(op_train, op_columns, op_le_obj_fts, op_numtype_fts)\n",
    "#### tran的mac1探索"
   ]
  },
  {
   "cell_type": "code",
   "execution_count": null,
   "metadata": {
    "collapsed": true,
    "scrolled": true
   },
   "outputs": [],
   "source": [
    "for feature in op_le_obj_fts:\n",
    "    try:\n",
    "        print('[info]: %r value 0 replaced by -1 ...' %feature)\n",
    "        op_train[feature].replace(0, -1, inplace=True)\n",
    "    except TypeError as e:\n",
    "        print(e)\n",
    "op_train_gb = op_train.groupby('UID', as_index=False)"
   ]
  },
  {
   "cell_type": "code",
   "execution_count": null,
   "metadata": {
    "collapsed": true
   },
   "outputs": [],
   "source": [
    "# 将op数据中的作假者与正常人分离开\n",
    "op_train_fake_gp = op_train[op_train['UID'].isin(op_tag['UID'][op_tag['Tag'] == 1])].groupby('UID', as_index=False)\n",
    "op_train_normal_gp = op_train[op_train['UID'].isin(op_tag['UID'][op_tag['Tag'] == 0])].groupby('UID', as_index=False)"
   ]
  },
  {
   "cell_type": "code",
   "execution_count": null,
   "metadata": {
    "collapsed": true
   },
   "outputs": [],
   "source": [
    "op_discv_fts = ['os', 'version', 'device1', 'device2', 'device_code1', 'device_code2', 'device_code3', 'mac1']\n",
    "tran_discv_fts = ['code1', 'code2', 'trans_type1', 'acc_id1', 'device_code1',\n",
    "                   'device_code2', 'device_code3', 'device1', 'device2', 'mac1', 'ip1', \n",
    "                   'amt_src2', 'acc_id2', 'acc_id3', 'geo_code', 'trans_type2']"
   ]
  },
  {
   "cell_type": "markdown",
   "metadata": {},
   "source": [
    "#### 典型羊毛党的特征"
   ]
  },
  {
   "cell_type": "markdown",
   "metadata": {},
   "source": [
    "<img style=\"float: left;\" src=\"http://third.datacastle.cn/pkbigdata/master.other.img/8ef429f9-2032-47b8-bcc4-818fa9e41a25.png\" width=\"50%\">"
   ]
  },
  {
   "cell_type": "markdown",
   "metadata": {},
   "source": [
    "### op\n",
    "\n",
    "|字段名|解释|构造特征思路|\n",
    "|-|-|-|\n",
    "|day|操作日期|day_cnts，求day的总数|\n",
    "|||top_appear_day，操作次数最多的day|\n",
    "|mode|操作类型|op_times_per2min，每2分钟的操作次数|\n",
    "| ||op_topcnts_oneday， 单天中操作的次数|\n",
    "| ||mode_max，同一操作类型的最大次数| \n",
    "| ||mode_rank1，排名第一的操作类型| \n",
    "|success|操作状态|suc_rate,成功率|\n",
    "|device_code1|安卓操作设备唯一标识1|dev_code_frq可以与code2、code3合并，统一为device_code，但是无法区分设备与电脑，可以考虑将电脑ip作为设备号添加进来，以减少Nan值，设备更换的频次 = 设备更换的次数/天数|\n",
    "|device_code2|安卓操作设备唯一标识2||\n",
    "|device_code3|苹果操作设备唯一标识1||\n",
    "|ip1|操作设备的ip地址|ip_diff_oneday_top,可以与ip2合并，统计一天中的变化的最大次数|\n",
    "|||ip_diff_cnt，统计变化次数|\n",
    "|||ip_diff_frq，统计变化频次|\n",
    "|ip2|操作电脑的ip地址||\n",
    "|ip1_sub|操作设备的ip的前三位地址|ipsub_in_diffUID可以与ip2_sub合并，ip_sub出现在不同UID的次数|\n",
    "|ip2_sub|操作电脑的ip的前三位地址||\n",
    "|mac1|操作设备的mac地址|mac1_in_diffUID, mac1出现在不同UID的次数|\n",
    "|device1|操作设备的名称|dev_name_frq, 将非nan的ip2_sub合入至该列，统计不同设备名称的频次 = 操作设备的名称变化总次数/总的操作次数|\n",
    "|device2|操作设备的类型|dev_type_frq, 将非nan的ip2_sub合入至该列，统计不同设备名称的频次 = 操作设备的名称变化总次数/总的操作次数|\n",
    "|mac2|wifi的mac地址|useless|\n",
    "|geo_code|经纬度|useless|\n",
    "|wifi|wifi名称|useless|\n",
    "|os|操作系统|useless|\n",
    "|version|软件版本|useless|"
   ]
  },
  {
   "cell_type": "markdown",
   "metadata": {},
   "source": [
    "### tran\n",
    "\n",
    "|字段名|解释|构造特征思路|\n",
    "|-|-|-|\n",
    "|channel|操作平台|channel_top_frq，出现次数最多的channel的频次|\n",
    "|||channel_top，出现次数最多的channel|\n",
    "|day|操作日期|day_cnts，求day的总数|\n",
    "|||day_appear_top，操作次数最多的day|\n",
    "|trans_amt|交易金额|tran_amt_frq，出现次数最多的金额的频次=出现次数最多的资金的总次数/总天数|\n",
    "|||tran_amt_top，出现次数最多的交易金额|\n",
    "|||tran_topcnts_oneday， 单天中交易的最多次数|\n",
    "|amt_src1|资金类型|amt_src1_frq，资金类型变化的频率=资金类型变化的次数/总天数|\n",
    "|||amt_src1_type_top，资金类型出现的最多类型|\n",
    "|||amt_src1_type_cnt，出现最多的资金类型的个数|\n",
    "|amt_src2|资金类型|amt_src2_frq，资金类型变化的频率=资金类型变化的次数/总天数|\n",
    "|||amt_src2_type_top，资金类型出现的最多类型|\n",
    "|||amt_src2_type_cnt，出现最多的资金类型的个数|\n",
    "|merchant|商户标识，即商户编码|merchant_frq，商户标识变化的频率=商户标识变化的次数/总天数|\n",
    "|||merchant_type_top，出现次数最多的商户标识类型|\n",
    "|||merchant_type_cnt，商户标识类型总数|\n",
    "|code1|商户标识，即商户子门店编码|code1_type_cnt，商户子门店类型总数|\n",
    "|||code1_type_top，出现最多的商户子门店|\n",
    "|trans_type1|交易类型，如消费退款等|trans_type1_top_cnt，出现次数最多的交易类型的次数|\n",
    "|||trans_type1_top_frq，出现次数最多的交易类型的频次|\n",
    "|||trans_type1_top，出现次数最多的交易类型|\n",
    "|trans_type2|交易类型，如线上线下等|trans_type2_top_cnt，出现次数最多的交易类型的次数|\n",
    "|||trans_type2_top_frq，出现次数最多的交易类型的频次|\n",
    "|||trans_type2_top，出现次数最多的交易类型|\n",
    "|acc_id1|用户账户号码|acc_id1_top_cnt,出现次数最多的交易类型的次数|\n",
    "|||acc_id1_top_frq,出现次数最多的交易类型的频次|\n",
    "|||acc_id1_top,出现次数最多的交易类型|\n",
    "|device_code1|安卓操作设备唯一标识1|dev_code_frq可以与code2、code3合并，统一为device_code，但是无法区分设备与电脑，设备更换的频次 = 设备更换的次数/天数|\n",
    "|device_code2|安卓操作设备唯一标识2||\n",
    "|device_code3|苹果操作设备唯一标识1||\n",
    "|device1|操作设备的名称|dev_name_frq，统计不同设备名称的频次 = 操作设备的名称变化总次数/总的操作次数|\n",
    "|device2|操作设备的类型|dev_type_frq，统计不同设备名称的频次 = 操作设备的名称变化总次数/总的操作次数|\n",
    "|mac1|操作设备的mac地址|mac1_in_diffUID, mac1出现在不同UID的次数|\n",
    "|ip1|操作设备的ip地址|ip_diff_oneday_max,统计一天中的变化的最大次数|\n",
    "|||ip_diff_cnt,统计所有统计中的变化次数|\n",
    "|bal|账户余额|bal_top，出现最多的账户余额|\n",
    "|||bal_top_cnt，出现最多的账户余额次数|\n",
    "|||bal_ascend，上升的次数|\n",
    "|||bal_ascend_max，上升时候增大的最大数|\n",
    "|||bal_descend，上升的次数|\n",
    "|||bal_descend_max，上升时候增大的最大数|\n",
    "|market_code|营销活动编号|market_code_top，出现最多次数的营销编号|\n",
    "|||market_code_top_cnt，出现最多营销编号的次数|\n",
    "|||market_code_top_frq，出现最多营销编号的频次|\n",
    "|ip1_sub|操作设备的ip的前三位地址|ip1_sub_in_diffUID，出现在不同UID的次数|\n",
    "|acc_id2|转账时转出账户号码|useless|\n",
    "|acc_id3|转账时转入账户号码|useless|\n",
    "|market_type|营销活动标识|useless|\n",
    "|code2|商户终端标识|useless|\n",
    "|geo_code|经纬度|useless|\n",
    "|os|操作系统|useless|\n",
    "|version|软件版本|useless|"
   ]
  },
  {
   "cell_type": "code",
   "execution_count": null,
   "metadata": {
    "collapsed": true
   },
   "outputs": [],
   "source": [
    "op_train['ip_sub'] = op_train['ip1_sub'].replace(np.nan, '') + op_train['ip2_sub'].replace(np.nan, '')"
   ]
  },
  {
   "cell_type": "code",
   "execution_count": null,
   "metadata": {
    "collapsed": true,
    "scrolled": true
   },
   "outputs": [],
   "source": [
    "op_tag = pd.merge(op_train, tag_train, on='UID', how='left').replace(0, np.nan)\n",
    "op_tag = op_tag.groupby('UID').count().drop(op_le_obj_fts, axis=1).drop(['success', 'time', 'timestamp'], axis=1)\n",
    "op_tag = op_tag.reset_index()\n",
    "op_tag['Tag'] = op_tag['Tag']/op_tag['day']\n",
    "op_tag.drop('day',axis=1, inplace=True)\n",
    "mode_max = []\n",
    "mode_std = []\n",
    "mode_rank1 = []\n",
    "mode_count = []\n",
    "for uid in list(op_train_gb.indices.keys()):\n",
    "    uid_mode = op_train_gb.get_group(uid)['mode']\n",
    "    mode_std.append(uid_mode.value_counts().std())    \n",
    "    mode_max.append(uid_mode.value_counts().values[0])    \n",
    "    mode_rank1.append(uid_mode.value_counts().index[0])\n",
    "    mode_count.append(uid_mode.count())\n",
    "op_tag['mode_max_rate'] = np.array(mode_max)/np.array(mode_count)*np.array(mode_std)\n",
    "op_tag['mode_rank1'] = np.array(mode_rank1)"
   ]
  },
  {
   "cell_type": "code",
   "execution_count": null,
   "metadata": {
    "collapsed": true,
    "scrolled": true
   },
   "outputs": [],
   "source": [
    "# 查看排第一的操作类型个数和排名第一的操作类型的关系\n",
    "le = LabelEncoder()\n",
    "op_tag['mode_rank1'] = le.fit_transform(op_tag['mode_rank1'])\n",
    "op_tag_fake = op_tag[op_tag['Tag'] == 0]\n",
    "op_tag_normal = op_tag[op_tag['Tag'] == 1]\n",
    "plt.xlim(-1,100)\n",
    "plt.scatter(op_tag_normal['mode_max_rate'],op_tag_normal['mode_rank1'])"
   ]
  },
  {
   "cell_type": "code",
   "execution_count": null,
   "metadata": {
    "collapsed": true
   },
   "outputs": [],
   "source": [
    "new_fake_index = np.random.choice(op_tag_fake.index, size=op_tag_normal.shape[0])\n",
    "new_fake_index\n",
    "plt.xlim(-1,100)\n",
    "op_part_fake = op_tag_fake.ix[pd.Index(new_fake_index)]\n",
    "plt.scatter(op_part_fake['mode_max_rate'], op_part_fake['mode_rank1'])"
   ]
  },
  {
   "cell_type": "code",
   "execution_count": null,
   "metadata": {
    "collapsed": true,
    "scrolled": true
   },
   "outputs": [],
   "source": [
    "op_tag1 = op_tag[op_tag['Tag'] == 1]\n",
    "op_tag0 = op_tag[op_tag['Tag'] == 0]\n",
    "# op_tag_tag1_sorted = op_tag1['mode_std'].value_counts().sort_index(ascending=False)\n",
    "# op_tag_tag0_sorted = op_tag0['mode_std'].value_counts().sort_index(ascending=False)\n",
    "\n",
    "op_tag_tag1_sorted = op_tag1['mode_max'].value_counts().sort_index(ascending=False)\n",
    "op_tag_tag0_sorted = op_tag0['mode_max'].value_counts().sort_index(ascending=False)\n",
    "\n",
    "print('tag1:',op_tag_tag1_sorted[op_tag_tag1_sorted.index>50].count())\n",
    "print('tag0:',op_tag_tag0_sorted[op_tag_tag0_sorted.index>50].count())"
   ]
  },
  {
   "cell_type": "code",
   "execution_count": null,
   "metadata": {
    "collapsed": true,
    "scrolled": true
   },
   "outputs": [],
   "source": [
    "x = op_tag_tag0_sorted.values\n",
    "y = op_tag_tag0_sorted.index\n",
    "plt.scatter(x, y)"
   ]
  },
  {
   "cell_type": "code",
   "execution_count": null,
   "metadata": {
    "collapsed": true
   },
   "outputs": [],
   "source": [
    "x = op_tag_tag1_sorted.values\n",
    "y = op_tag_tag1_sorted.index\n",
    "plt.scatter(x, y)"
   ]
  },
  {
   "cell_type": "code",
   "execution_count": null,
   "metadata": {
    "collapsed": true
   },
   "outputs": [],
   "source": [
    "op_tag_tag1_sorted.shape"
   ]
  },
  {
   "cell_type": "code",
   "execution_count": null,
   "metadata": {
    "collapsed": true
   },
   "outputs": [],
   "source": [
    "op_tag_tag0_sorted.shape"
   ]
  },
  {
   "cell_type": "code",
   "execution_count": null,
   "metadata": {
    "collapsed": true,
    "scrolled": true
   },
   "outputs": [],
   "source": [
    "op_tag_gb_sorted_tag0"
   ]
  },
  {
   "cell_type": "code",
   "execution_count": null,
   "metadata": {
    "collapsed": true
   },
   "outputs": [],
   "source": [
    "op_train_gb.get_group(17520)['mode'].value_counts().std()"
   ]
  },
  {
   "cell_type": "code",
   "execution_count": null,
   "metadata": {
    "collapsed": true
   },
   "outputs": [],
   "source": [
    "op_train[op_train['UID']==17520]['mode'].value_counts().std()"
   ]
  },
  {
   "cell_type": "markdown",
   "metadata": {},
   "source": [
    "#### tran的mac1探索"
   ]
  },
  {
   "cell_type": "code",
   "execution_count": null,
   "metadata": {
    "collapsed": true
   },
   "outputs": [],
   "source": [
    "tran_train[tran_train['UID']==10001]"
   ]
  },
  {
   "cell_type": "code",
   "execution_count": null,
   "metadata": {
    "collapsed": true
   },
   "outputs": [],
   "source": [
    "t_mac1_gb = tran_tag.loc[:,['mac1', 'Tag']].groupby('mac1')"
   ]
  },
  {
   "cell_type": "code",
   "execution_count": null,
   "metadata": {
    "collapsed": true
   },
   "outputs": [],
   "source": [
    "t_mac1_des = t_mac1_gb.describe()"
   ]
  },
  {
   "cell_type": "code",
   "execution_count": null,
   "metadata": {
    "collapsed": true
   },
   "outputs": [],
   "source": [
    "get_tag(10001)"
   ]
  },
  {
   "cell_type": "code",
   "execution_count": null,
   "metadata": {
    "collapsed": true
   },
   "outputs": [],
   "source": [
    "get_tran(54035)"
   ]
  },
  {
   "cell_type": "code",
   "execution_count": null,
   "metadata": {
    "collapsed": true
   },
   "outputs": [],
   "source": [
    "tran_tag[tran_tag['mac1'].isin(t_mac1_des['Tag'][t_mac1_des['Tag']['std']>0].index)]['UID'].count()"
   ]
  },
  {
   "cell_type": "code",
   "execution_count": null,
   "metadata": {
    "collapsed": true
   },
   "outputs": [],
   "source": [
    "t_mac1_des['Tag'][t_mac1_des['Tag']['std']>0].index"
   ]
  },
  {
   "cell_type": "code",
   "execution_count": null,
   "metadata": {
    "collapsed": true,
    "scrolled": false
   },
   "outputs": [],
   "source": [
    "t_mac1_gb['UID']"
   ]
  },
  {
   "cell_type": "code",
   "execution_count": null,
   "metadata": {
    "collapsed": true
   },
   "outputs": [],
   "source": [
    "print(t_mac1_gb['Tag'])"
   ]
  },
  {
   "cell_type": "code",
   "execution_count": null,
   "metadata": {
    "collapsed": true
   },
   "outputs": [],
   "source": [
    "for fk in fake_keys:\n",
    "    print(op_train_fake_gp.get_group(fk)['mac1'].value_counts())"
   ]
  },
  {
   "cell_type": "code",
   "execution_count": null,
   "metadata": {
    "collapsed": true
   },
   "outputs": [],
   "source": [
    "tran_tag = pd.merge(tran_train, tag_train, on='UID', how='left')"
   ]
  },
  {
   "cell_type": "code",
   "execution_count": null,
   "metadata": {
    "collapsed": true
   },
   "outputs": [],
   "source": [
    "tran_tag"
   ]
  },
  {
   "cell_type": "code",
   "execution_count": null,
   "metadata": {
    "collapsed": true
   },
   "outputs": [],
   "source": [
    "tran_train_fake.count()"
   ]
  },
  {
   "cell_type": "code",
   "execution_count": null,
   "metadata": {
    "collapsed": true
   },
   "outputs": [],
   "source": [
    "tran_train_normal.count()"
   ]
  },
  {
   "cell_type": "code",
   "execution_count": null,
   "metadata": {
    "collapsed": true
   },
   "outputs": [],
   "source": [
    "fake_keys=[]\n",
    "for key, item in op_train_fake_gp.indices.items():\n",
    "    fake_keys.append(key)\n",
    "    \n",
    "normal_keys=[]\n",
    "for key, item in op_train_normal_gp.indices.items():\n",
    "    normal_keys.append(key)"
   ]
  },
  {
   "cell_type": "code",
   "execution_count": null,
   "metadata": {
    "collapsed": true,
    "scrolled": true
   },
   "outputs": [],
   "source": [
    "type(op_train_fake_gp.get_group(10000))\n",
    "df_10000 = op_train_fake_gp.get_group(10000)\n",
    "df_10000['mode'].value_counts()"
   ]
  },
  {
   "cell_type": "code",
   "execution_count": null,
   "metadata": {
    "collapsed": true,
    "scrolled": true
   },
   "outputs": [],
   "source": [
    "op_train['mode'].value_counts(dropna=False)"
   ]
  },
  {
   "cell_type": "code",
   "execution_count": null,
   "metadata": {
    "collapsed": true
   },
   "outputs": [],
   "source": [
    "fake_keys=[]\n",
    "for key, item in op_train_fake_gp.indices.items():\n",
    "    fake_keys.append(key)"
   ]
  },
  {
   "cell_type": "markdown",
   "metadata": {
    "collapsed": true
   },
   "source": [
    "#### 1.2 tran处理"
   ]
  },
  {
   "cell_type": "code",
   "execution_count": null,
   "metadata": {
    "collapsed": true
   },
   "outputs": [],
   "source": [
    "# tran需要进行LabelEncoder的特征\n",
    "tran_columns = ['UID', 'channel', 'day', 'time', 'trans_amt', 'amt_src1', 'merchant',\n",
    "       'code1', 'code2', 'trans_type1', 'acc_id1', 'device_code1',\n",
    "       'device_code2', 'device_code3', 'device1', 'device2', 'mac1', 'ip1',\n",
    "       'bal', 'amt_src2', 'acc_id2', 'acc_id3', 'geo_code', 'trans_type2',\n",
    "       'market_code', 'market_type', 'ip1_sub', 'timestamp']\n",
    "tran_operator_features = []\n",
    "tran_user_features = []"
   ]
  },
  {
   "cell_type": "code",
   "execution_count": null,
   "metadata": {
    "collapsed": true
   },
   "outputs": [],
   "source": []
  }
 ],
 "metadata": {
  "kernelspec": {
   "display_name": "Python 3",
   "language": "python",
   "name": "python3"
  },
  "language_info": {
   "codemirror_mode": {
    "name": "ipython",
    "version": 3
   },
   "file_extension": ".py",
   "mimetype": "text/x-python",
   "name": "python",
   "nbconvert_exporter": "python",
   "pygments_lexer": "ipython3",
   "version": "3.6.5"
  }
 },
 "nbformat": 4,
 "nbformat_minor": 1
}
