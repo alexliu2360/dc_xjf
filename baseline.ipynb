{
 "cells": [
  {
   "cell_type": "markdown",
   "metadata": {},
   "source": [
    "<img style=\"float: left;\" src=\"http://third.datacastle.cn/pkbigdata/master.other.img/8ef429f9-2032-47b8-bcc4-818fa9e41a25.png\" width=\"50%\">"
   ]
  },
  {
   "cell_type": "code",
   "execution_count": null,
   "metadata": {},
   "outputs": [],
   "source": [
    "import numpy as np\n",
    "import pandas as pd\n",
    "import time,os\n",
    "from sklearn.preprocessing import LabelEncoder\n",
    "import matplotlib.pyplot as plt\n",
    "%matplotlib inline"
   ]
  },
  {
   "cell_type": "code",
   "execution_count": null,
   "metadata": {},
   "outputs": [],
   "source": [
    "data_path = '../data/'\n",
    "op_train_sorted_file = 'op_train_sorted.csv' \n",
    "tran_train_sorted_file = 'tran_train_sorted.csv' \n",
    "tag_train_sorted_file = 'tag_train_sorted.csv' "
   ]
  },
  {
   "cell_type": "code",
   "execution_count": null,
   "metadata": {},
   "outputs": [],
   "source": [
    "is_preprocessed = False\n",
    "if not os.path.exists(data_path + op_train_sorted_file) or not os.path.exists(data_path + tran_train_sorted_file) or not os.path.exists(data_path + tag_train_sorted_file):\n",
    "    print('[info]:start read from new train data...')\n",
    "    is_preprocessed = False\n",
    "    print('[info]:start read from op_train...')\n",
    "    op_train = pd.read_csv('../data/operation_train_new.csv')\n",
    "    print('[info]:start read from tran_train...')\n",
    "    tran_train = pd.read_csv('../data/transaction_train_new.csv')\n",
    "    print('[info]:start read from tag_train...')\n",
    "    tag_train = pd.read_csv('../data/tag_train_new.csv')\n",
    "else:\n",
    "    print('[info]:start read from sorted data...')\n",
    "    is_preprocessed = True\n",
    "    print('[info]:start read from op_train...')\n",
    "    op_train = pd.read_csv('../data/op_train_sorted.csv').drop('Unnamed: 0', axis=1)\n",
    "    print('[info]:start read from tran_train...')\n",
    "    tran_train = pd.read_csv('../data/tran_train_sorted.csv').drop('Unnamed: 0', axis=1)\n",
    "    print('[info]:start read from tag_train...')\n",
    "    tag_train = pd.read_csv('../data/tag_train_sorted.csv').drop('Unnamed: 0', axis=1)"
   ]
  },
  {
   "cell_type": "markdown",
   "metadata": {},
   "source": [
    "### 1.数据预处理"
   ]
  },
  {
   "cell_type": "code",
   "execution_count": null,
   "metadata": {},
   "outputs": [],
   "source": [
    "def find_different_uid(op_uids, tran_uids):\n",
    "    op_diff_uids = []\n",
    "    for uid in op_uids:\n",
    "        if uid not in tran_uids:\n",
    "            op_diff_uids.append(uid)\n",
    "        else:\n",
    "            tran_uids.remove(uid)\n",
    "    return op_diff_uids, tran_uids\n",
    "\n",
    "def find_same_uid(src1_uids, src2_uids):\n",
    "    same_uids = [uid for uid in src1_uids if uid in src2_uids]\n",
    "    return same_uids"
   ]
  },
  {
   "cell_type": "code",
   "execution_count": null,
   "metadata": {},
   "outputs": [],
   "source": [
    "if not is_preprocessed:\n",
    "    # 处理时间字符串\n",
    "    op_train['time'] = op_train['day'].apply(lambda x: \"2018-08-%02d\" % x) + ' ' + op_train['time']\n",
    "    op_train['timestamp'] = op_train['time'].apply(lambda x:time.mktime(time.strptime(x,'%Y-%m-%d %H:%M:%S')))\n",
    "\n",
    "    tran_train['time'] = tran_train['day'].apply(lambda x: \"2018-08-%02d\" % x) + ' ' + tran_train['time']\n",
    "    tran_train['timestamp'] = tran_train['time'].apply(lambda x:time.mktime(time.strptime(x,'%Y-%m-%d %H:%M:%S')))\n",
    "    \n",
    "    # 根据UID进行排序 再根据timestamp进行排序 \n",
    "    op_train = op_train.sort_values(by=['UID', 'timestamp'],ascending=True).reset_index(drop=True)\n",
    "    tran_train = tran_train.sort_values(by=['UID', 'timestamp'],ascending=True).reset_index(drop=True)\n",
    "    tag_train = tag_train.sort_values(by=['UID'], ascending=True).reset_index(drop=True)\n",
    "\n",
    "    op_train.to_csv(data_path + op_train_sorted_file)\n",
    "    tran_train.to_csv(data_path + tran_train_sorted_file)\n",
    "    tag_train.to_csv(data_path + tag_train_sorted_file)"
   ]
  },
  {
   "cell_type": "code",
   "execution_count": null,
   "metadata": {},
   "outputs": [],
   "source": [
    "# 分组\n",
    "op_train_gb = op_train.groupby('UID', as_index=False)\n",
    "tran_train_gb = tran_train.groupby('UID', as_index=False)\n",
    "#  获取op和tran各自的uid\n",
    "op_train_uids = [uid for uid, item in op_train_gb.groups.items()]\n",
    "tran_train_uids = [uid for uid, item in tran_train_gb.groups.items()]\n",
    "# 获取op和tran各自的tag\n",
    "op_tag = tag_train[tag_train['UID'].isin(op_train['UID'])]\n",
    "tran_tag = tag_train[tag_train['UID'].isin(tran_train['UID'])]"
   ]
  },
  {
   "cell_type": "markdown",
   "metadata": {},
   "source": [
    "#### 1.1处理缺失值"
   ]
  },
  {
   "cell_type": "code",
   "execution_count": null,
   "metadata": {},
   "outputs": [],
   "source": [
    "# op需要进行LabelEncoder的特征\n",
    "op_columns = list(op_train.columns)\n",
    "op_le_obj_fts = ['mode', 'os', 'version',\n",
    "                  'device1', 'device2', 'device_code1', 'device_code2', 'device_code3',\n",
    "                  'mac1', 'mac2', 'ip1', 'ip2', 'wifi', 'geo_code', 'ip1_sub', 'ip2_sub']"
   ]
  },
  {
   "cell_type": "code",
   "execution_count": null,
   "metadata": {},
   "outputs": [],
   "source": [
    "def get_nan_counts(gb_count, ft_columns):\n",
    "    hasnans_features_cnts = []\n",
    "    for ft in ft_columns:\n",
    "        cnts = gb_count[ft].value_counts()\n",
    "        value = cnts[cnts.index == 0].values\n",
    "        if len(value):\n",
    "            hasnans_features_cnts.append((cnts.name,value[0]))\n",
    "    return hasnans_features_cnts\n",
    "        \n",
    "def find_invalid_feature(gb_count, ft_columns):\n",
    "    invalid_features = []\n",
    "    for ft in ft_columns:\n",
    "        cnts = gb_count[ft].value_counts()\n",
    "        # 寻找值为0的统计数\n",
    "        value = cnts[cnts.index == 0].values\n",
    "        if len(value):\n",
    "            if value[0] / gb_count.shape[0] > 0.5:\n",
    "                print(cnts.name, value[0] / gb_count.shape[0])\n",
    "                invalid_features.append(cnts.name)\n",
    "    return invalid_features\n",
    "\n",
    "def remove_list_item(src_l, rm_l):\n",
    "    assert type(src_l) is list\n",
    "    assert type(rm_l) is list\n",
    "    \n",
    "    for i in rm_l:\n",
    "        if i in src_l:\n",
    "            src_l.remove(i)\n",
    "    return src_l"
   ]
  },
  {
   "cell_type": "code",
   "execution_count": null,
   "metadata": {},
   "outputs": [],
   "source": [
    "# 由于success是float型，将success单独拿出来处理缺失值\n",
    "print('[info]: start fill nans...')\n",
    "op_train['success'].fillna(-1, inplace=True)\n",
    "op_train_gb = op_train.groupby('UID', as_index=False)\n",
    "\n",
    "# 填补缺失值\n",
    "op_train = op_train_gb.ffill()\n",
    "op_train_gb = op_train.groupby('UID', as_index=False)\n",
    "op_train = op_train_gb.bfill()\n",
    "op_train_gb = op_train.groupby('UID', as_index=False)\n",
    "\n",
    "# 在填补基础上计数，去除nan值占一半以上的值\n",
    "print('[info]: start remove invalid features...')\n",
    "invalid_features = find_invalid_feature(op_train_gb.count(), op_columns)\n",
    "op_columns = remove_list_item(op_columns, invalid_features)\n",
    "op_le_obj_fts = remove_list_item(op_le_obj_fts, invalid_features)\n",
    "op_train.drop(invalid_features, axis='columns', inplace=True)\n",
    "\n",
    "# 填补剩余的缺失值\n",
    "print('[info]: start handle left nans...')\n",
    "op_hasnans_features_cnts = get_nan_counts(op_train_gb.count(), op_columns)\n",
    "for ft_cnts in op_hasnans_features_cnts:\n",
    "    if op_train[ft_cnts[0]].hasnans:\n",
    "        op_train[ft_cnts[0]].fillna('-1', inplace=True)\n",
    "op_train_gb = op_train.groupby('UID', as_index=False)\n",
    "print('[info]: handle nans finished.')\n",
    "\n",
    "# operator的LabelEncoder\n",
    "print('[info]: start label encoding...')\n",
    "le = LabelEncoder()\n",
    "for feature in op_le_obj_fts:\n",
    "    try:\n",
    "        print('[info]: %r label encoding...' %feature)\n",
    "        op_train[feature] = le.fit_transform(op_train[feature])\n",
    "    except TypeError as e:\n",
    "        print(e)\n",
    "op_train_gb = op_train.groupby('UID', as_index=False)\n",
    "print('[info]: label encoding finished.')"
   ]
  },
  {
   "cell_type": "code",
   "execution_count": null,
   "metadata": {},
   "outputs": [],
   "source": [
    "for fk in fake_keys:\n",
    "    print(op_train_fake_gp.get_group(fk)['mac1'].value_counts())"
   ]
  },
  {
   "cell_type": "code",
   "execution_count": null,
   "metadata": {},
   "outputs": [],
   "source": [
    "# 将op数据中的作假者与正常人分离开\n",
    "op_train_fake_gp = op_train[op_train['UID'].isin(op_tag['UID'][op_tag['Tag'] == 1])].groupby('UID', as_index=False)\n",
    "op_train_normal_gp = op_train[op_train['UID'].isin(op_tag['UID'][op_tag['Tag'] == 0])].groupby('UID', as_index=False)"
   ]
  },
  {
   "cell_type": "code",
   "execution_count": null,
   "metadata": {},
   "outputs": [],
   "source": [
    "fake_keys=[]\n",
    "for key, item in op_train_fake_gp.indices.items():\n",
    "    fake_keys.append(key)\n",
    "    \n",
    "normal_keys=[]\n",
    "for key, item in op_train_normal_gp.indices.items():\n",
    "    normal_keys.append(key)"
   ]
  },
  {
   "cell_type": "code",
   "execution_count": null,
   "metadata": {
    "scrolled": true
   },
   "outputs": [],
   "source": [
    "type(op_train_fake_gp.get_group(10000))\n",
    "df_10000 = op_train_fake_gp.get_group(10000)\n",
    "df_10000['mode'].value_counts()"
   ]
  },
  {
   "cell_type": "code",
   "execution_count": null,
   "metadata": {
    "scrolled": true
   },
   "outputs": [],
   "source": [
    "op_train['mode'].value_counts(dropna=False)"
   ]
  },
  {
   "cell_type": "code",
   "execution_count": null,
   "metadata": {},
   "outputs": [],
   "source": [
    "fake_keys=[]\n",
    "for key, item in op_train_fake_gp.indices.items():\n",
    "    fake_keys.append(key)"
   ]
  },
  {
   "cell_type": "markdown",
   "metadata": {
    "collapsed": true
   },
   "source": [
    "#### 1.2 tran处理"
   ]
  },
  {
   "cell_type": "code",
   "execution_count": null,
   "metadata": {},
   "outputs": [],
   "source": [
    "# tran需要进行LabelEncoder的特征\n",
    "tran_columns = ['UID', 'channel', 'day', 'time', 'trans_amt', 'amt_src1', 'merchant',\n",
    "       'code1', 'code2', 'trans_type1', 'acc_id1', 'device_code1',\n",
    "       'device_code2', 'device_code3', 'device1', 'device2', 'mac1', 'ip1',\n",
    "       'bal', 'amt_src2', 'acc_id2', 'acc_id3', 'geo_code', 'trans_type2',\n",
    "       'market_code', 'market_type', 'ip1_sub', 'timestamp']\n",
    "tran_operator_features = []\n",
    "tran_user_features = []"
   ]
  },
  {
   "cell_type": "code",
   "execution_count": null,
   "metadata": {},
   "outputs": [],
   "source": []
  }
 ],
 "metadata": {
  "kernelspec": {
   "display_name": "Python 3",
   "language": "python",
   "name": "python3"
  },
  "language_info": {
   "codemirror_mode": {
    "name": "ipython",
    "version": 3
   },
   "file_extension": ".py",
   "mimetype": "text/x-python",
   "name": "python",
   "nbconvert_exporter": "python",
   "pygments_lexer": "ipython3",
   "version": "3.6.5"
  }
 },
 "nbformat": 4,
 "nbformat_minor": 1
}
